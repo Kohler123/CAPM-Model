

import yfinance as yf

import pandas as pd

import matplotlib.pyplot as plt

import numpy as np

import plotly.express as px

from sklearn.linear_model import LinearRegression

#getting historic stock data from yfinance
stocks_list = ['BHARTIARTL.NS', 'ITC.NS', 'HDFCBANK.NS','^NSEI']

data = yf.download(stocks_list, period='5y')['Adj Close']

data.columns = ['BHARTIARTL','HDFCBANK', 'ITC','NIFTY_50']